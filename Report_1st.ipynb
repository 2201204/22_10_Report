{
  "nbformat": 4,
  "nbformat_minor": 0,
  "metadata": {
    "colab": {
      "provenance": [],
      "authorship_tag": "ABX9TyO9dw/ZVhVBg+u54yVNcOy0",
      "include_colab_link": true
    },
    "kernelspec": {
      "name": "python3",
      "display_name": "Python 3"
    },
    "language_info": {
      "name": "python"
    }
  },
  "cells": [
    {
      "cell_type": "markdown",
      "metadata": {
        "id": "view-in-github",
        "colab_type": "text"
      },
      "source": [
        "<a href=\"https://colab.research.google.com/github/2201204/22_10_Report/blob/main/Report_1st.ipynb\" target=\"_parent\"><img src=\"https://colab.research.google.com/assets/colab-badge.svg\" alt=\"Open In Colab\"/></a>"
      ]
    },
    {
      "cell_type": "code",
      "execution_count": 1,
      "metadata": {
        "colab": {
          "base_uri": "https://localhost:8080/"
        },
        "id": "Cb6eU7OAgLq6",
        "outputId": "2bfd5335-a89d-4c5c-c507-17573a4ad47d"
      },
      "outputs": [
        {
          "output_type": "stream",
          "name": "stdout",
          "text": [
            "환영합니다.\n",
            "파이썬의 세계에 오신 것을 환영합니다.\n",
            "파이썬은 강력합니다.\n"
          ]
        }
      ],
      "source": [
        "print(\"환영합니다.\")\n",
        "print(\"파이썬의 세계에 오신 것을 환영합니다.\")\n",
        "print(\"파이썬은 강력합니다.\")"
      ]
    },
    {
      "cell_type": "code",
      "source": [
        "print(\"반갑습니다. 파이썬!\")\n",
        "print(2*3/10)\n",
        "print(\"hello\",\"world\", \"!!!\")"
      ],
      "metadata": {
        "colab": {
          "base_uri": "https://localhost:8080/"
        },
        "id": "xUR5srBdhNYg",
        "outputId": "3239bf31-8628-4cf5-a4d1-4750c8ba46a8"
      },
      "execution_count": 4,
      "outputs": [
        {
          "output_type": "stream",
          "name": "stdout",
          "text": [
            "반갑습니다. 파이썬!\n",
            "0.6\n",
            "hello world !!!\n"
          ]
        }
      ]
    }
  ]
}